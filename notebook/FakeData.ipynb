{
 "cells": [
  {
   "cell_type": "code",
   "execution_count": 1,
   "metadata": {},
   "outputs": [],
   "source": [
    "import os\n",
    "import sys\n",
    "sys.path.append(\"/home/pervinco/BKAI_MetaPolyp\")\n",
    "\n",
    "import cv2\n",
    "import yaml\n",
    "import random\n",
    "import numpy as np\n",
    "import albumentations as A\n",
    "\n",
    "from glob import glob\n",
    "from utils.utils import visualize\n",
    "from data.batch_preprocess import background_pasting, get_file_list, load_img_mask"
   ]
  },
  {
   "cell_type": "code",
   "execution_count": 2,
   "metadata": {},
   "outputs": [],
   "source": [
    "with open(\"/home/pervinco/BKAI_MetaPolyp/config.yaml\", \"r\") as f:\n",
    "    config = yaml.safe_load(f)\n",
    "\n",
    "data_dir = \"/home/pervinco/Datasets/BKAI_IGH_NeoPolyp\"\n",
    "color_dir = f\"{data_dir}/color_txt\"\n",
    "image_dir = f\"{data_dir}/train\"\n",
    "mask_dir = f\"{data_dir}/train_gt\"\n",
    "\n",
    "background_dir = \"/home/pervinco/Datasets/Background\"\n",
    "background_folders = [\"0_normal\", \"1_ulcerative_colitis\", \"3_esophagitis\"]\n",
    "output_dir = \"/home/pervinco/Datasets/BKAI_FAKE\""
   ]
  },
  {
   "cell_type": "code",
   "execution_count": 3,
   "metadata": {},
   "outputs": [
    {
     "name": "stdout",
     "output_type": "stream",
     "text": [
      "3 3\n"
     ]
    }
   ],
   "source": [
    "train_color_files = f\"{data_dir}/train_colors\"\n",
    "valid_color_files = f\"{data_dir}/valid_colors\"\n",
    "\n",
    "train_txt_files = sorted(glob(f\"{train_color_files}/*.txt\"))\n",
    "valid_txt_files = sorted(glob(f\"{valid_color_files}/*.txt\"))\n",
    "print(len(train_txt_files), len(valid_txt_files))"
   ]
  },
  {
   "cell_type": "code",
   "execution_count": 4,
   "metadata": {},
   "outputs": [],
   "source": [
    "if not os.path.isdir(output_dir):\n",
    "    os.makedirs(f\"{output_dir}/train\", exist_ok=True)\n",
    "    os.makedirs(f\"{output_dir}/train_gt\", exist_ok=True)\n",
    "    os.makedirs(f\"{output_dir}/train_colors\", exist_ok=True)\n",
    "    os.makedirs(f\"{output_dir}/valid_colors\", exist_ok=True)"
   ]
  },
  {
   "cell_type": "code",
   "execution_count": 5,
   "metadata": {},
   "outputs": [
    {
     "name": "stdout",
     "output_type": "stream",
     "text": [
      "3\n",
      "200\n"
     ]
    }
   ],
   "source": [
    "total_valid = {}\n",
    "for val_txt in valid_txt_files:\n",
    "    name = val_txt.split('/')[-1].split('.')[0]\n",
    "\n",
    "    with open(val_txt, \"r\") as f:\n",
    "        files = [x.strip() for x in f.readlines()]\n",
    "    \n",
    "    total_valid.update({name : files})\n",
    "\n",
    "print(len(total_valid))\n",
    "\n",
    "valid_file_list = []\n",
    "for name, files in total_valid.items():\n",
    "    valid_file_list.extend(files)\n",
    "\n",
    "print(len(valid_file_list))"
   ]
  },
  {
   "cell_type": "code",
   "execution_count": 6,
   "metadata": {},
   "outputs": [
    {
     "name": "stdout",
     "output_type": "stream",
     "text": [
      "green 257\n",
      "red 694\n",
      "rng 49\n"
     ]
    }
   ],
   "source": [
    "total_files = get_file_list(color_dir)\n",
    "\n",
    "for name, files in total_files.items():\n",
    "    print(name, len(files))"
   ]
  },
  {
   "cell_type": "code",
   "execution_count": 7,
   "metadata": {},
   "outputs": [
    {
     "name": "stdout",
     "output_type": "stream",
     "text": [
      "4500\n"
     ]
    }
   ],
   "source": [
    "backgrounds = []\n",
    "for folder in background_folders:\n",
    "    files = sorted(glob(f\"{background_dir}/*/{folder}/*\"))\n",
    "    backgrounds.extend(files)\n",
    "\n",
    "print(len(backgrounds))"
   ]
  },
  {
   "cell_type": "code",
   "execution_count": 8,
   "metadata": {},
   "outputs": [],
   "source": [
    "color_per_iter = {\"red\" : config[\"red_size\"], \"green\" : config[\"green_size\"], \"rng\" : config[\"rng_size\"]}"
   ]
  },
  {
   "cell_type": "code",
   "execution_count": 9,
   "metadata": {},
   "outputs": [],
   "source": [
    "for name, files in total_files.items():\n",
    "    with open(f\"{output_dir}/train_colors/{name}.txt\", \"w\") as f:\n",
    "        for file in files:\n",
    "            image_path = f\"{image_dir}/{file}.jpeg\"\n",
    "            mask_path = f\"{mask_dir}/{file}.jpeg\"\n",
    "            image, mask = load_img_mask(image_path, mask_path, size=config[\"img_size\"])\n",
    "            image = cv2.cvtColor(image, cv2.COLOR_BGR2RGB)\n",
    "            # mask = cv2.cvtColor(mask, cv2.COLOR_BGR2RGB)\n",
    "\n",
    "            if file not in valid_file_list:\n",
    "                f.write(f\"{file}\\n\")\n",
    "\n",
    "            cv2.imwrite(f\"{output_dir}/train/{file}.jpeg\", image)\n",
    "            cv2.imwrite(f\"{output_dir}/train_gt/{file}.jpeg\", mask)\n",
    "\n",
    "            for idx in range(0, color_per_iter[name]):\n",
    "                bg_idx = random.randint(0, len(backgrounds) - 1)\n",
    "                background_file = backgrounds[bg_idx]\n",
    "                background_image = cv2.imread(background_file)\n",
    "                background_image = cv2.resize(background_image, (config[\"img_size\"], config[\"img_size\"]))\n",
    "                # background_image = cv2.cvtColor(background_image, cv2.COLOR_BGR2RGB)\n",
    "\n",
    "                result_image, result_mask = background_pasting(image, mask, background_image, alpha=0.6)\n",
    "                # result_image = cv2.cvtColor(result_image, cv2.COLOR_BGR2RGB)\n",
    "                # result_mask = cv2.cvtColor(result_mask, cv2.COLOR_BGR2RGB)\n",
    "\n",
    "                f.write(f\"{file}_{idx:>02}\\n\")\n",
    "\n",
    "                cv2.imwrite(f\"{output_dir}/train/{file}_{idx:>02}.jpeg\", result_image)\n",
    "                cv2.imwrite(f\"{output_dir}/train_gt/{file}_{idx:>02}.jpeg\", result_mask)\n",
    "    "
   ]
  },
  {
   "cell_type": "code",
   "execution_count": 10,
   "metadata": {},
   "outputs": [],
   "source": [
    "for val_txt in valid_txt_files:\n",
    "    name = val_txt.split('/')[-1].split('.')[0]\n",
    "\n",
    "    with open(val_txt, \"r\") as f:\n",
    "        files = [x.strip() for x in f.readlines()]\n",
    "    \n",
    "    with open(f\"{output_dir}/valid_colors/{name}.txt\", \"w\") as f:\n",
    "        for file in files:\n",
    "            f.write(f\"{file}\\n\")"
   ]
  }
 ],
 "metadata": {
  "kernelspec": {
   "display_name": "Python 3",
   "language": "python",
   "name": "python3"
  },
  "language_info": {
   "codemirror_mode": {
    "name": "ipython",
    "version": 3
   },
   "file_extension": ".py",
   "mimetype": "text/x-python",
   "name": "python",
   "nbconvert_exporter": "python",
   "pygments_lexer": "ipython3",
   "version": "3.8.10"
  },
  "orig_nbformat": 4
 },
 "nbformat": 4,
 "nbformat_minor": 2
}
